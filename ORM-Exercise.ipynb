{
 "cells": [
  {
   "cell_type": "markdown",
   "id": "9c09f475",
   "metadata": {},
   "source": [
    "# Object-Relational Mapper exercise"
   ]
  },
  {
   "cell_type": "markdown",
   "id": "abccf4ad",
   "metadata": {},
   "source": [
    "Creating in-memory SQLite database for the purpose of the exercise"
   ]
  },
  {
   "cell_type": "code",
   "execution_count": 9,
   "id": "df9d278b",
   "metadata": {},
   "outputs": [],
   "source": [
    "import sqlalchemy as sa\n",
    "from sqlalchemy.ext.declarative import declarative_base\n",
    "from sqlalchemy import func\n",
    "from decimal import Decimal\n",
    "import warnings\n",
    "\n",
    "warnings.filterwarnings(\"ignore\")\n",
    "\n",
    "engine = sa.create_engine('sqlite:///:memory:')\n",
    "Base = declarative_base()\n",
    "session = sa.orm.sessionmaker(bind=engine)()"
   ]
  },
  {
   "cell_type": "code",
   "execution_count": 10,
   "id": "7b420f07",
   "metadata": {},
   "outputs": [],
   "source": [
    "class OrderItem(Base):\n",
    "    __tablename__ = 'order'\n",
    "\n",
    "    id = sa.Column('id', sa.Integer, primary_key=True)\n",
    "    product_id = sa.Column('product_id', sa.Integer, sa.ForeignKey('product.id'))\n",
    "    user_id = sa.Column('user_id', sa.Integer, sa.ForeignKey('user.id'))\n",
    "    qty = sa.Column('qty', sa.Integer)\n",
    "\n",
    "class Product(Base):\n",
    "    __tablename__ = 'product'\n",
    "\n",
    "    id = sa.Column('id', sa.Integer, primary_key=True)\n",
    "    name = sa.Column('name', sa.Text)\n",
    "    price = sa.Column('price', sa.Numeric(14,2))\n",
    "\n",
    "class User(Base):\n",
    "    __tablename__ = 'user'\n",
    "\n",
    "    id = sa.Column('id', sa.Integer, primary_key=True)\n",
    "    first_name = sa.Column('first_name', sa.Text)\n",
    "    last_name = sa.Column('last_name', sa.Text)\n",
    "\n",
    "Base.metadata.create_all(engine)\n",
    "\n",
    "engine.echo = True"
   ]
  },
  {
   "cell_type": "code",
   "execution_count": 11,
   "id": "f3fca460",
   "metadata": {},
   "outputs": [
    {
     "name": "stdout",
     "output_type": "stream",
     "text": [
      "2021-10-15 10:04:10,871 INFO sqlalchemy.engine.Engine BEGIN (implicit)\n",
      "2021-10-15 10:04:10,872 INFO sqlalchemy.engine.Engine INSERT INTO \"order\" (product_id, user_id, qty) VALUES (?, ?, ?)\n",
      "2021-10-15 10:04:10,872 INFO sqlalchemy.engine.Engine [generated in 0.00055s] (1, 42, 9)\n",
      "2021-10-15 10:04:10,873 INFO sqlalchemy.engine.Engine INSERT INTO \"order\" (product_id, user_id, qty) VALUES (?, ?, ?)\n",
      "2021-10-15 10:04:10,873 INFO sqlalchemy.engine.Engine [cached since 0.001507s ago] (1, 42, 2)\n",
      "2021-10-15 10:04:10,873 INFO sqlalchemy.engine.Engine INSERT INTO \"order\" (product_id, user_id, qty) VALUES (?, ?, ?)\n",
      "2021-10-15 10:04:10,874 INFO sqlalchemy.engine.Engine [cached since 0.002414s ago] (1, 13, 2)\n",
      "2021-10-15 10:04:10,874 INFO sqlalchemy.engine.Engine INSERT INTO \"order\" (product_id, user_id, qty) VALUES (?, ?, ?)\n",
      "2021-10-15 10:04:10,875 INFO sqlalchemy.engine.Engine [cached since 0.003031s ago] (2, 13, 3)\n",
      "2021-10-15 10:04:10,875 INFO sqlalchemy.engine.Engine INSERT INTO \"order\" (product_id, user_id, qty) VALUES (?, ?, ?)\n",
      "2021-10-15 10:04:10,875 INFO sqlalchemy.engine.Engine [cached since 0.003743s ago] (2, 13, 20)\n",
      "2021-10-15 10:04:10,876 INFO sqlalchemy.engine.Engine INSERT INTO product (id, name, price) VALUES (?, ?, ?)\n",
      "2021-10-15 10:04:10,876 INFO sqlalchemy.engine.Engine [generated in 0.00026s] ((1, 'Rabbit', 2.1), (2, 'Parrot', 5.1))\n",
      "2021-10-15 10:04:10,877 INFO sqlalchemy.engine.Engine INSERT INTO user (id, first_name, last_name) VALUES (?, ?, ?)\n",
      "2021-10-15 10:04:10,877 INFO sqlalchemy.engine.Engine [generated in 0.00037s] ((42, 'John', 'Cleese'), (43, 'Eric', 'Idle'), (44, 'Terry', 'Jones'), (13, 'Graham', 'Chapman'))\n",
      "2021-10-15 10:04:10,878 INFO sqlalchemy.engine.Engine COMMIT\n"
     ]
    }
   ],
   "source": [
    "session.add(User(id=42, first_name='John', last_name='Cleese'))\n",
    "session.add(User(id=43, first_name='Eric', last_name='Idle'))\n",
    "session.add(User(id=44, first_name='Terry', last_name='Jones'))\n",
    "session.add(User(id=13, first_name='Graham', last_name='Chapman'))\n",
    "session.add(Product(id=1, price=Decimal('2.10'), name='Rabbit'))\n",
    "session.add(Product(id=2, price=Decimal('5.10'), name='Parrot'))\n",
    "session.add(OrderItem(product_id=1, user_id=42, qty=9))\n",
    "session.add(OrderItem(product_id=1, user_id=42, qty=2))\n",
    "session.add(OrderItem(product_id=1, user_id=13, qty=2))\n",
    "session.add(OrderItem(product_id=2, user_id=13, qty=3))\n",
    "session.add(OrderItem(product_id=2, user_id=13, qty=20))\n",
    "session.commit()"
   ]
  },
  {
   "cell_type": "markdown",
   "id": "232ac1bf",
   "metadata": {},
   "source": [
    "# Exercise 1."
   ]
  },
  {
   "cell_type": "markdown",
   "id": "20afe904",
   "metadata": {},
   "source": [
    "Taking the database from the example above, can you write ONE sqlalchemy query that will create an outer join on Users, OrderItems and Products that return the last_name, qty and name from the corresponding tables ?"
   ]
  },
  {
   "cell_type": "code",
   "execution_count": 12,
   "id": "775384dc",
   "metadata": {},
   "outputs": [
    {
     "name": "stdout",
     "output_type": "stream",
     "text": [
      "2021-10-15 10:04:14,002 INFO sqlalchemy.engine.Engine BEGIN (implicit)\n",
      "2021-10-15 10:04:14,004 INFO sqlalchemy.engine.Engine SELECT user.last_name AS user_last_name, \"order\".qty AS order_qty, product.name AS product_name \n",
      "FROM user LEFT OUTER JOIN \"order\" ON user.id = \"order\".user_id LEFT OUTER JOIN product ON product.id = \"order\".product_id\n",
      "2021-10-15 10:04:14,004 INFO sqlalchemy.engine.Engine [generated in 0.00055s] ()\n"
     ]
    },
    {
     "data": {
      "text/plain": [
       "[('Chapman', 2, 'Rabbit'),\n",
       " ('Chapman', 3, 'Parrot'),\n",
       " ('Chapman', 20, 'Parrot'),\n",
       " ('Cleese', 2, 'Rabbit'),\n",
       " ('Cleese', 9, 'Rabbit'),\n",
       " ('Idle', None, None),\n",
       " ('Jones', None, None)]"
      ]
     },
     "execution_count": 12,
     "metadata": {},
     "output_type": "execute_result"
    }
   ],
   "source": [
    "session.query(User.last_name,OrderItem.qty, Product.name).outerjoin(OrderItem, User.id == OrderItem.user_id ).outerjoin(Product, Product.id == OrderItem.product_id ).all()"
   ]
  },
  {
   "cell_type": "markdown",
   "id": "4d315378",
   "metadata": {},
   "source": [
    "## Explanation"
   ]
  },
  {
   "cell_type": "markdown",
   "id": "0666df1a",
   "metadata": {},
   "source": [
    "We have 3 tables 1.User, 2.Procudt. 3.OrderItem. I'm querying for users's last name, quantity of order and the product name, from the respective tables.\n",
    "\n",
    "The tables are connected in such way: User > OrderItem < Product\n",
    "Where The OrderItem has foreign keys: product_id, user_id which are primary keys of Product table and User Table respectively\n",
    "\n",
    "We can use the above statment to join the tables on that condition to make a Left OUTER JOIN\n"
   ]
  },
  {
   "cell_type": "markdown",
   "id": "129957a0",
   "metadata": {},
   "source": [
    "# Exercise 2."
   ]
  },
  {
   "cell_type": "markdown",
   "id": "4edaa55e",
   "metadata": {},
   "source": [
    "Taking the database from the example above, can you write ONE sqlalchemy query that will create an aggregated result from the query above (sum the products of qty and price accordingly) calculating the value of purchases (grouping) per User ?"
   ]
  },
  {
   "cell_type": "code",
   "execution_count": 13,
   "id": "71a0617a",
   "metadata": {
    "scrolled": false
   },
   "outputs": [
    {
     "name": "stdout",
     "output_type": "stream",
     "text": [
      "2021-10-15 10:04:16,927 INFO sqlalchemy.engine.Engine SELECT user.last_name AS user_last_name, sum(\"order\".qty * product.price) AS sum_1 \n",
      "FROM user LEFT OUTER JOIN \"order\" ON user.id = \"order\".user_id LEFT OUTER JOIN product ON product.id = \"order\".product_id GROUP BY user.id\n",
      "2021-10-15 10:04:16,928 INFO sqlalchemy.engine.Engine [generated in 0.00038s] ()\n"
     ]
    },
    {
     "data": {
      "text/plain": [
       "[('Chapman', Decimal('121.50')),\n",
       " ('Cleese', Decimal('23.10')),\n",
       " ('Idle', None),\n",
       " ('Jones', None)]"
      ]
     },
     "execution_count": 13,
     "metadata": {},
     "output_type": "execute_result"
    }
   ],
   "source": [
    "session.query(User.last_name, func.sum(OrderItem.qty * Product.price)).outerjoin(OrderItem, User.id == OrderItem.user_id ).outerjoin(Product, Product.id == OrderItem.product_id ).group_by(User.id).all()"
   ]
  },
  {
   "cell_type": "markdown",
   "id": "d6e026db",
   "metadata": {},
   "source": [
    "## Explanation"
   ]
  },
  {
   "cell_type": "markdown",
   "id": "5286ce4b",
   "metadata": {},
   "source": [
    "The query is quite similar to the one above with just 2 extra conditons:\n",
    "    1- Group qunantity of Item and Price acording to the user\n",
    "    2- Sum according -> (order.qty * product.price) \n",
    "Using group_by() method to grup the query on User.id\n",
    "Using func class use python methods on query"
   ]
  },
  {
   "cell_type": "markdown",
   "id": "56aca1d0",
   "metadata": {},
   "source": []
  }
 ],
 "metadata": {
  "kernelspec": {
   "display_name": "Python 3 (ipykernel)",
   "language": "python",
   "name": "python3"
  },
  "language_info": {
   "codemirror_mode": {
    "name": "ipython",
    "version": 3
   },
   "file_extension": ".py",
   "mimetype": "text/x-python",
   "name": "python",
   "nbconvert_exporter": "python",
   "pygments_lexer": "ipython3",
   "version": "3.9.5"
  }
 },
 "nbformat": 4,
 "nbformat_minor": 5
}
